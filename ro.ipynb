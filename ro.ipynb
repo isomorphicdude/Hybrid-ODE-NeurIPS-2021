{
 "cells": [
  {
   "cell_type": "code",
   "execution_count": 1,
   "metadata": {},
   "outputs": [],
   "source": [
    "import pickle\n",
    "import numpy as np\n",
    "import torch\n",
    "import matplotlib.pyplot as plt"
   ]
  },
  {
   "cell_type": "code",
   "execution_count": 4,
   "metadata": {},
   "outputs": [],
   "source": [
    "import pickle\n",
    "\n",
    "import numpy as np\n",
    "import torch\n",
    "\n",
    "import dataloader\n",
    "import sim_config\n",
    "\n",
    "val_size = 100\n",
    "test_size = 1000\n",
    "\n",
    "data_config = sim_config.DataConfig(n_sample=1000 + val_size + test_size)\n",
    "n_sample = data_config.n_sample\n",
    "\n",
    "action_dim = data_config.action_dim\n",
    "t_max = data_config.t_max\n",
    "step_size = data_config.step_size\n",
    "sparsity = data_config.sparsity\n",
    "p_remove = data_config.p_remove\n",
    "\n",
    "output_sigma = 0.2\n",
    "dose_max = 10\n",
    "\n",
    "# on averaga three latents contribute to a measurement\n",
    "\n",
    "# dim 8\n",
    "output_sparsity = 1 - 0.375\n",
    "latent_dim = 8\n",
    "obs_dim = 40\n",
    "roche_config = sim_config.RochConfig(kel=1)\n",
    "\n",
    "seed = 666\n",
    "np.random.seed(seed)\n",
    "torch.manual_seed(seed)\n",
    "\n",
    "device = torch.device(\"cpu\")\n",
    "\n",
    "dg = dataloader.DataGeneratorRoche(\n",
    "    n_sample,\n",
    "    obs_dim,\n",
    "    t_max,\n",
    "    step_size,\n",
    "    roche_config,\n",
    "    output_sigma,\n",
    "    dose_max,\n",
    "    latent_dim,\n",
    "    sparsity,\n",
    "    p_remove=p_remove,\n",
    "    output_sparsity=output_sparsity,\n",
    "    device=device,\n",
    "    val_size=val_size,\n",
    "    test_size=test_size,\n",
    ")\n",
    "dg.generate_data()\n",
    "dg.split_sample()\n",
    "\n",
    "\n",
    "with open(\"data/datafile_dim8.pkl\", \"wb\") as f:\n",
    "    pickle.dump(dg, f)"
   ]
  },
  {
   "cell_type": "code",
   "execution_count": 6,
   "metadata": {},
   "outputs": [],
   "source": [
    "with open('data/datafile_dim8.pkl', \"rb\") as f:\n",
    "    data = pickle.load(f)"
   ]
  },
  {
   "cell_type": "code",
   "execution_count": 17,
   "metadata": {},
   "outputs": [
    {
     "data": {
      "text/plain": [
       "torch.Size([15, 2100, 8])"
      ]
     },
     "execution_count": 17,
     "metadata": {},
     "output_type": "execute_result"
    }
   ],
   "source": [
    "data.latents.shape"
   ]
  }
 ],
 "metadata": {
  "kernelspec": {
   "display_name": "jax",
   "language": "python",
   "name": "python3"
  },
  "language_info": {
   "codemirror_mode": {
    "name": "ipython",
    "version": 3
   },
   "file_extension": ".py",
   "mimetype": "text/x-python",
   "name": "python",
   "nbconvert_exporter": "python",
   "pygments_lexer": "ipython3",
   "version": "3.9.16"
  }
 },
 "nbformat": 4,
 "nbformat_minor": 2
}
