{
 "cells": [
  {
   "cell_type": "code",
   "execution_count": 95,
   "metadata": {},
   "outputs": [
    {
     "name": "stdout",
     "output_type": "stream",
     "text": [
      "The autoreload extension is already loaded. To reload it, use:\n",
      "  %reload_ext autoreload\n"
     ]
    }
   ],
   "source": [
    "# enable autorreload of modules\n",
    "%load_ext autoreload\n",
    "import pickle\n",
    "import numpy as np\n",
    "import torch\n",
    "import matplotlib.pyplot as plt\n",
    "from new_models import *\n",
    "from SDE_helper import *\n",
    "import warnings\n",
    "warnings.filterwarnings('always', module='.*')\n",
    "import logging\n",
    "logging.getLogger().setLevel(logging.ERROR)"
   ]
  },
  {
   "cell_type": "code",
   "execution_count": 96,
   "metadata": {},
   "outputs": [
    {
     "name": "stdout",
     "output_type": "stream",
     "text": [
      "train_size -100\n",
      "n_sample 1000\n",
      "Running ablation study: False\n",
      "Conditioning on w only: False\n",
      "Number of parameters of y net: 82\n",
      "Conditioning on expert ODEs: True\n",
      "Conditioning expert ODEs only False\n",
      "torch.Size([15, 32, 1])\n"
     ]
    }
   ],
   "source": [
    "from new_models import SDENet, NewEncoderLSTM, NewVariationalInference\n",
    "with open('data/datafile_dim8.pkl', \"rb\") as f:\n",
    "    data_gen = pickle.load(f)\n",
    "dg = data_gen\n",
    "dg.set_device('cpu')\n",
    "dg.set_train_size(1000)\n",
    "    \n",
    "data_config = sim_config.dim8_config\n",
    "\n",
    "obs_dim = data_config.obs_dim\n",
    "latent_dim = data_config.latent_dim\n",
    "action_dim = data_config.action_dim\n",
    "t_max = data_config.t_max\n",
    "step_size = data_config.step_size\n",
    "encoder_latent_ratio = 2.0\n",
    "encoder_output_dim = 6\n",
    "device = torch.device(\"cuda\" if torch.cuda.is_available() else \"cpu\")\n",
    "normalize = True\n",
    "prior = ExponentialPrior.log_density\n",
    "ablate = False\n",
    "condition_w = True\n",
    "condition_w_only = False\n",
    "\n",
    "\n",
    "\n",
    "encoder = NewEncoderLSTM(\n",
    "            obs_dim + action_dim,\n",
    "            int(obs_dim * encoder_latent_ratio),\n",
    "            encoder_output_dim,\n",
    "            device=device,\n",
    "            normalize=normalize,\n",
    "        )\n",
    "\n",
    "\n",
    "new_decoder = SDENet(\n",
    "    input_size=(encoder_output_dim,),\n",
    "    device=device,\n",
    "    condition_w=condition_w,\n",
    "    obs_dim=obs_dim,\n",
    "    y_net_hidden_width=16,\n",
    "    weight_network_sizes=(32,), #128\n",
    "    control_network_width=16, #8\n",
    "    ablate=ablate,\n",
    "    condition_w_only=condition_w_only,\n",
    ")\n",
    "\n",
    "data = data_gen.get_split(\"test\", 32, 0)\n",
    "print(data['actions'].shape)"
   ]
  },
  {
   "cell_type": "code",
   "execution_count": 97,
   "metadata": {},
   "outputs": [
    {
     "data": {
      "text/plain": [
       "tensor([0.2676, 0.0000, 2.2849, 0.0000, 1.5599, 0.0000, 0.0971, 0.0000, 8.4267,\n",
       "        0.0000, 0.0000, 0.0334, 0.0252, 0.0878, 1.2365, 0.0000, 0.0000, 0.0000,\n",
       "        6.7690, 0.0000, 0.0000, 0.2288, 0.0000, 5.1879, 0.1072, 1.1693, 0.0000,\n",
       "        0.0000, 0.0468, 0.0000, 0.0000, 0.0000], grad_fn=<MulBackward0>)"
      ]
     },
     "execution_count": 97,
     "metadata": {},
     "output_type": "execute_result"
    }
   ],
   "source": [
    "from training_utils import *\n",
    "# set action\n",
    "common_action = data['actions']\n",
    "new_decoder.set_action(common_action)\n",
    "new_dose_func = new_decoder.dose_at_time\n",
    "new_dose_func(5/14)"
   ]
  },
  {
   "cell_type": "code",
   "execution_count": 98,
   "metadata": {},
   "outputs": [
    {
     "name": "stdout",
     "output_type": "stream",
     "text": [
      "ml_dim: 0\n"
     ]
    },
    {
     "data": {
      "text/plain": [
       "tensor([0.2676, 0.0000, 2.2849, 0.0000, 1.5599, 0.0000, 0.0971, 0.0000, 8.4267,\n",
       "        0.0000, 0.0000, 0.0334, 0.0252, 0.0878, 1.2365, 0.0000, 0.0000, 0.0000,\n",
       "        6.7690, 0.0000, 0.0000, 0.2288, 0.0000, 5.1879, 0.1072, 1.1693, 0.0000,\n",
       "        0.0000, 0.0468, 0.0000, 0.0000, 0.0000], grad_fn=<MulBackward0>)"
      ]
     },
     "execution_count": 98,
     "metadata": {},
     "output_type": "execute_result"
    }
   ],
   "source": [
    "from model import *\n",
    "from training_utils import *\n",
    "old_encoder = EncoderLSTM(\n",
    "            obs_dim + action_dim,\n",
    "            int(obs_dim * encoder_latent_ratio),\n",
    "            4,\n",
    "            device=device,\n",
    "            normalize=normalize,\n",
    "        )\n",
    "\n",
    "old_decoder = RocheExpertDecoder(\n",
    "            obs_dim,\n",
    "            4,\n",
    "            action_dim,\n",
    "            14,\n",
    "            1,\n",
    "            roche=True,\n",
    "            method=\"dopri5\",\n",
    "            device=device,\n",
    "            ablate=False,\n",
    "        )\n",
    "old_decoder.ode.set_action(common_action)\n",
    "old_dose_func = old_decoder.ode.dose_at_time\n",
    "# print(old_decoder.ode.times)\n",
    "old_dose_func(5)"
   ]
  },
  {
   "cell_type": "code",
   "execution_count": 99,
   "metadata": {},
   "outputs": [],
   "source": [
    "old_interval = torch.arange(0, 15, 1)\n",
    "new_interval = torch.arange(0, 15, 1) / 14\n",
    "for old_t, new_t in zip(old_interval, new_interval):\n",
    "    old = old_dose_func(old_t)\n",
    "    new = new_dose_func(new_t)\n",
    "    assert torch.allclose(old, new, atol=1e-5), f\"{old_t} {new_t} {old} {new}\""
   ]
  },
  {
   "cell_type": "code",
   "execution_count": 100,
   "metadata": {},
   "outputs": [],
   "source": [
    "from SDE_helper import expertODE\n",
    "y = data['latents']\n",
    "Disease = y[0, :, 0]\n",
    "ImmuneReact = y[0, :, 1]\n",
    "Immunity = y[0, :, 2]\n",
    "Dose2 = y[0, :, 3]\n",
    "def new_ode(t, y):\n",
    "    Disease = y[:, 0]\n",
    "    ImmuneReact = y[:, 1]\n",
    "    Immunity = y[:, 2]\n",
    "    Dose2 = y[:, 3]\n",
    "    return expertODE(t,\n",
    "                Disease,\n",
    "                ImmuneReact,\n",
    "                Immunity,\n",
    "                Dose2,\n",
    "                new_dose_func,\n",
    "                device=device)\n",
    "for old_t, new_t in zip(old_interval, new_interval):\n",
    "    old = old_decoder.ode(old_t,\n",
    "                          y[0, :, :4])\n",
    "    new = new_ode(new_t,\n",
    "                   y[0, :, :4])\n",
    "    assert torch.allclose(old, new, atol=1e-5), f\"{old_t} {new_t} {old} {new}\""
   ]
  },
  {
   "cell_type": "code",
   "execution_count": 101,
   "metadata": {},
   "outputs": [
    {
     "name": "stdout",
     "output_type": "stream",
     "text": [
      "tensor([[2.8680e-01, 7.8167e-01, 1.3165e+00, 1.9698e-01],\n",
      "        [1.3635e-01, 7.6141e-02, 1.4811e-01, 2.0367e-05],\n",
      "        [4.4894e-01, 5.7167e-01, 9.9947e-01, 8.4058e-01],\n",
      "        [6.7050e-02, 8.1953e-01, 1.8323e+00, 1.8453e-05],\n",
      "        [5.1660e-01, 4.0297e-01, 1.0721e+00, 1.1478e+00],\n",
      "        [1.4816e-01, 9.1637e-01, 1.6009e+00, 9.0819e-06],\n",
      "        [6.3855e-01, 5.4999e-01, 4.8105e-01, 1.7852e-01],\n",
      "        [1.0633e-03, 5.4722e-01, 2.4892e+00, 2.0732e-06],\n",
      "        [4.0887e-01, 1.8838e-01, 1.0602e+00, 3.1001e+00],\n",
      "        [6.3441e-02, 8.1742e-01, 1.8481e+00, 1.4171e-05],\n",
      "        [5.9670e-02, 8.4037e-01, 1.8774e+00, 2.2253e-06],\n",
      "        [2.7797e-01, 9.4979e-01, 1.3650e+00, 4.9180e-02],\n",
      "        [2.1563e-01, 1.2327e-01, 1.2113e-01, 3.7139e-02],\n",
      "        [3.0912e-01, 9.5148e-01, 1.3694e+00, 1.2920e-01],\n",
      "        [7.3207e-01, 4.2195e-01, 5.3883e-01, 9.0978e-01],\n",
      "        [1.9120e-03, 5.3694e-01, 2.3940e+00, 2.1197e-05],\n",
      "        [5.1781e-01, 6.5941e-01, 6.9548e-01, 4.1305e-06],\n",
      "        [3.6159e-01, 2.5289e-01, 2.5304e-01, 4.7297e-05],\n",
      "        [3.1541e-01, 8.5220e-02, 1.8998e-01, 2.4902e+00],\n",
      "        [2.4337e-02, 7.3983e-01, 2.0602e+00, 6.4075e-05],\n",
      "        [7.8396e-02, 8.4092e-01, 1.7942e+00, 1.0951e-05],\n",
      "        [9.7357e-02, 5.6168e-01, 1.7056e+00, 2.5254e-01],\n",
      "        [1.1984e-02, 6.1139e-03, 4.8959e-02, 7.7840e-05],\n",
      "        [2.7825e-02, 1.7416e-01, 1.8608e+00, 1.9085e+00],\n",
      "        [5.3949e-01, 1.0178e+00, 1.0822e+00, 1.9721e-01],\n",
      "        [1.1222e+00, 6.6386e-01, 6.4974e-01, 1.2906e+00],\n",
      "        [1.3894e-01, 7.6995e-02, 8.6019e-02, 6.0802e-06],\n",
      "        [2.5721e-01, 1.5927e-01, 1.7847e-01, 2.5308e-05],\n",
      "        [5.5088e-01, 8.4852e-01, 8.7782e-01, 8.6096e-02],\n",
      "        [7.5711e-02, 8.3686e-01, 1.8030e+00, 2.2660e-06],\n",
      "        [5.0244e-01, 7.4385e-01, 7.9770e-01, 1.7895e-05],\n",
      "        [5.0931e-01, 5.8996e-01, 6.4505e-01, 4.0281e-05]],\n",
      "       grad_fn=<SelectBackward0>)\n"
     ]
    }
   ],
   "source": [
    "from torchdiffeq import odeint\n",
    "old = odeint(old_decoder.ode, \n",
    "       y[0, :, :4], \n",
    "       # torch.arange(0, 15, 1, dtype=torch.float32, device=device),\n",
    "       torch.tensor([0.0, 6.0]),\n",
    "       method='dopri5')\n",
    "print(old[1])"
   ]
  },
  {
   "cell_type": "code",
   "execution_count": 107,
   "metadata": {},
   "outputs": [
    {
     "name": "stdout",
     "output_type": "stream",
     "text": [
      "tensor([[2.8680e-01, 7.8167e-01, 1.3165e+00, 1.9698e-01],\n",
      "        [1.3635e-01, 7.6141e-02, 1.4811e-01, 2.0367e-05],\n",
      "        [4.4894e-01, 5.7167e-01, 9.9947e-01, 8.4058e-01],\n",
      "        [6.7050e-02, 8.1953e-01, 1.8323e+00, 1.8453e-05],\n",
      "        [5.1660e-01, 4.0296e-01, 1.0721e+00, 1.1478e+00],\n",
      "        [1.4816e-01, 9.1637e-01, 1.6009e+00, 9.0819e-06],\n",
      "        [6.3855e-01, 5.4999e-01, 4.8105e-01, 1.7852e-01],\n",
      "        [1.0633e-03, 5.4722e-01, 2.4892e+00, 2.0732e-06],\n",
      "        [4.0887e-01, 1.8838e-01, 1.0602e+00, 3.1001e+00],\n",
      "        [6.3441e-02, 8.1742e-01, 1.8481e+00, 1.3181e-05],\n",
      "        [5.9670e-02, 8.4037e-01, 1.8774e+00, 9.9070e-07],\n",
      "        [2.7797e-01, 9.4979e-01, 1.3650e+00, 4.9180e-02],\n",
      "        [2.1563e-01, 1.2327e-01, 1.2113e-01, 3.7139e-02],\n",
      "        [3.0912e-01, 9.5148e-01, 1.3694e+00, 1.2920e-01],\n",
      "        [7.3207e-01, 4.2195e-01, 5.3883e-01, 9.0978e-01],\n",
      "        [1.9120e-03, 5.3694e-01, 2.3940e+00, 2.1197e-05],\n",
      "        [5.1781e-01, 6.5941e-01, 6.9548e-01, 4.1305e-06],\n",
      "        [3.6159e-01, 2.5289e-01, 2.5304e-01, 4.7297e-05],\n",
      "        [3.1541e-01, 8.5221e-02, 1.8998e-01, 2.4902e+00],\n",
      "        [2.4337e-02, 7.3983e-01, 2.0602e+00, 6.4075e-05],\n",
      "        [7.8396e-02, 8.4092e-01, 1.7942e+00, 1.0951e-05],\n",
      "        [9.7357e-02, 5.6168e-01, 1.7056e+00, 2.5254e-01],\n",
      "        [1.1984e-02, 6.1139e-03, 4.8959e-02, 7.7840e-05],\n",
      "        [2.7825e-02, 1.7416e-01, 1.8608e+00, 1.9085e+00],\n",
      "        [5.3949e-01, 1.0178e+00, 1.0822e+00, 1.9721e-01],\n",
      "        [1.1222e+00, 6.6386e-01, 6.4974e-01, 1.2906e+00],\n",
      "        [1.3894e-01, 7.6995e-02, 8.6019e-02, 6.0802e-06],\n",
      "        [2.5721e-01, 1.5927e-01, 1.7847e-01, 2.5308e-05],\n",
      "        [5.5088e-01, 8.4852e-01, 8.7781e-01, 8.6096e-02],\n",
      "        [7.5711e-02, 8.3686e-01, 1.8030e+00, 2.2660e-06],\n",
      "        [5.0244e-01, 7.4385e-01, 7.9770e-01, 1.6824e-05],\n",
      "        [5.0931e-01, 5.8996e-01, 6.4505e-01, 4.0281e-05]],\n",
      "       grad_fn=<SelectBackward0>)\n"
     ]
    }
   ],
   "source": [
    "def new_ode1(t, y):\n",
    "    return new_ode(t, y)*14\n",
    "\n",
    "new = odeint(new_ode1,\n",
    "         y[0, :, :4], \n",
    "        #  torch.arange(0, 15, 1, dtype=torch.float32, device=device)/14,\n",
    "        torch.tensor([0.0, 6.0/(14.0)]),\n",
    "         method='dopri5')\n",
    "print((new)[1])"
   ]
  },
  {
   "cell_type": "code",
   "execution_count": 103,
   "metadata": {},
   "outputs": [],
   "source": [
    "assert torch.allclose(old[1], new[1], atol=1e-5), f\"{old} {new}\""
   ]
  }
 ],
 "metadata": {
  "kernelspec": {
   "display_name": "jax",
   "language": "python",
   "name": "python3"
  },
  "language_info": {
   "codemirror_mode": {
    "name": "ipython",
    "version": 3
   },
   "file_extension": ".py",
   "mimetype": "text/x-python",
   "name": "python",
   "nbconvert_exporter": "python",
   "pygments_lexer": "ipython3",
   "version": "3.9.16"
  }
 },
 "nbformat": 4,
 "nbformat_minor": 2
}
